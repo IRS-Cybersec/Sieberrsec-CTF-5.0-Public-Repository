{
 "cells": [
  {
   "cell_type": "code",
   "execution_count": 5,
   "metadata": {},
   "outputs": [],
   "source": [
    "interesting = [3, 1, 4, 1, 5, 9, 2, 6, 5, 3, 5, 8]\n",
    "\n",
    "\n",
    "def reverser(text: str) -> str:\n",
    "    output = \"\"\n",
    "\n",
    "    curr = 0\n",
    "    for i in interesting:\n",
    "        output += text[curr : curr + i][::-1]\n",
    "        curr += i\n",
    "\n",
    "    return output\n",
    "\n",
    "\n",
    "def main():\n",
    "    text = input(\"Enter the reversed text: \")\n",
    "    print(reverser(text))\n",
    "\n",
    "\n",
    "if __name__ == \"__main__\":\n",
    "    main()"
   ]
  },
  {
   "cell_type": "markdown",
   "metadata": {},
   "source": [
    "```c\n",
    "#include <stdio.h>\n",
    "#include <string.h>\n",
    "\n",
    "int interesting[12] = {3, 1, 4, 1, 5, 9, 2, 6, 5, 3, 5, 8};\n",
    "\n",
    "void reverser(char* text, char* output) {\n",
    "    int curr = 0;\n",
    "    int index = 0;\n",
    "\n",
    "    for (int i = 0; i < 12; i++) {\n",
    "        int length = interesting[i];\n",
    "        int j;\n",
    "\n",
    "        for (j = length - 1; j >= 0; j--) {\n",
    "            output[index++] = text[curr + j];\n",
    "        }\n",
    "\n",
    "        curr += length;\n",
    "    }\n",
    "\n",
    "    output[index] = '\\0';\n",
    "}\n",
    "\n",
    "int main() {\n",
    "    char reversed[53];\n",
    "    char output[53];\n",
    "\n",
    "    printf(\"Enter the reversed text: \");\n",
    "    scanf(\"%52s\", reversed);\n",
    "\n",
    "    reverser(reversed, output);\n",
    "\n",
    "    printf(\"%s\", output);\n",
    "\n",
    "    return 0;\n",
    "}\n",
    "```\n"
   ]
  },
  {
   "cell_type": "code",
   "execution_count": 6,
   "metadata": {},
   "outputs": [
    {
     "name": "stdout",
     "output_type": "stream",
     "text": [
      "tcsf83b{e_f209t4c1lpm0cd332cd2_r_805ev39_3sr}186ede1\n",
      "sctf{b38e902f_c0mpl1c4t3d_2dc23508_r3vers3_91ede681}\n"
     ]
    }
   ],
   "source": [
    "print(reverser(\"sctf{b38e902f_c0mpl1c4t3d_2dc23508_r3vers3_91ede681}\"))\n",
    "print(reverser(reverser(\"sctf{b38e902f_c0mpl1c4t3d_2dc23508_r3vers3_91ede681}\")))"
   ]
  },
  {
   "cell_type": "code",
   "execution_count": 14,
   "metadata": {},
   "outputs": [
    {
     "name": "stdout",
     "output_type": "stream",
     "text": [
      "sctf{b38e902f_c0mpl1c4t3d_2dc23508_r3vers3_91ede681}\n"
     ]
    }
   ],
   "source": [
    "main()"
   ]
  }
 ],
 "metadata": {
  "kernelspec": {
   "display_name": "csit",
   "language": "python",
   "name": "python3"
  },
  "language_info": {
   "codemirror_mode": {
    "name": "ipython",
    "version": 3
   },
   "file_extension": ".py",
   "mimetype": "text/x-python",
   "name": "python",
   "nbconvert_exporter": "python",
   "pygments_lexer": "ipython3",
   "version": "3.10.11"
  }
 },
 "nbformat": 4,
 "nbformat_minor": 2
}
